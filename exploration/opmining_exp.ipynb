{
 "cells": [
  {
   "cell_type": "markdown",
   "metadata": {},
   "source": [
    "# Imports"
   ]
  },
  {
   "cell_type": "code",
   "execution_count": 1,
   "metadata": {},
   "outputs": [],
   "source": [
    "import pandas as pd"
   ]
  },
  {
   "cell_type": "code",
   "execution_count": 27,
   "metadata": {},
   "outputs": [
    {
     "name": "stderr",
     "output_type": "stream",
     "text": [
      "[nltk_data] Downloading package stopwords to\n",
      "[nltk_data]     C:\\Users\\Mary\\AppData\\Roaming\\nltk_data...\n",
      "[nltk_data]   Package stopwords is already up-to-date!\n",
      "[nltk_data] Downloading package vader_lexicon to\n",
      "[nltk_data]     C:\\Users\\Mary\\AppData\\Roaming\\nltk_data...\n",
      "[nltk_data]   Package vader_lexicon is already up-to-date!\n",
      "[nltk_data] Downloading package punkt to\n",
      "[nltk_data]     C:\\Users\\Mary\\AppData\\Roaming\\nltk_data...\n",
      "[nltk_data]   Package punkt is already up-to-date!\n",
      "[nltk_data] Downloading package punkt_tab to\n",
      "[nltk_data]     C:\\Users\\Mary\\AppData\\Roaming\\nltk_data...\n",
      "[nltk_data]   Package punkt_tab is already up-to-date!\n"
     ]
    },
    {
     "data": {
      "text/plain": [
       "True"
      ]
     },
     "execution_count": 27,
     "metadata": {},
     "output_type": "execute_result"
    }
   ],
   "source": [
    "import nltk\n",
    "import re\n",
    "\n",
    "from nltk.corpus import stopwords\n",
    "from nltk.sentiment import SentimentIntensityAnalyzer\n",
    "\n",
    "# Download necessary NLTK data\n",
    "nltk.download('stopwords')\n",
    "nltk.download('vader_lexicon')\n",
    "nltk.download('punkt')\n",
    "nltk.download('punkt_tab')\n"
   ]
  },
  {
   "cell_type": "code",
   "execution_count": 4,
   "metadata": {},
   "outputs": [],
   "source": [
    "import numpy as np\n",
    "# def dummy_npwarn_decorator_factory():\n",
    "#   def npwarn_decorator(x):\n",
    "#     return x\n",
    "#   return npwarn_decorator\n",
    "# np._no_nep50_warning = getattr(np, '_no_nep50_warning', dummy_npwarn_decorator_factory)"
   ]
  },
  {
   "cell_type": "code",
   "execution_count": 28,
   "metadata": {},
   "outputs": [],
   "source": [
    "from bertopic import BERTopic"
   ]
  },
  {
   "cell_type": "code",
   "execution_count": null,
   "metadata": {},
   "outputs": [
    {
     "name": "stderr",
     "output_type": "stream",
     "text": [
      "c:\\Users\\mkavalio\\codedir\\TextAnalysis\\.venv\\Lib\\site-packages\\tqdm\\auto.py:21: TqdmWarning: IProgress not found. Please update jupyter and ipywidgets. See https://ipywidgets.readthedocs.io/en/stable/user_install.html\n",
      "  from .autonotebook import tqdm as notebook_tqdm\n",
      "None of PyTorch, TensorFlow >= 2.0, or Flax have been found. Models won't be available and only tokenizers, configuration and file/data utilities can be used.\n",
      "None of PyTorch, TensorFlow >= 2.0, or Flax have been found. Models won't be available and only tokenizers, configuration and file/data utilities can be used.\n"
     ]
    }
   ],
   "source": [
    "from transformers import pipeline #if error change version of transformers"
   ]
  },
  {
   "cell_type": "markdown",
   "metadata": {},
   "source": [
    "# Dataset import and text preprocessing"
   ]
  },
  {
   "cell_type": "code",
   "execution_count": 72,
   "metadata": {},
   "outputs": [
    {
     "name": "stdout",
     "output_type": "stream",
     "text": [
      "<class 'pandas.core.frame.DataFrame'>\n",
      "Index: 234 entries, 0 to 277\n",
      "Data columns (total 3 columns):\n",
      " #   Column  Non-Null Count  Dtype \n",
      "---  ------  --------------  ----- \n",
      " 0   Year    234 non-null    int64 \n",
      " 1   Model   234 non-null    object\n",
      " 2   Review  234 non-null    object\n",
      "dtypes: int64(1), object(2)\n",
      "memory usage: 7.3+ KB\n"
     ]
    }
   ],
   "source": [
    "df = pd.read_csv(r\"D:\\workdir\\TopicModelling\\Data\\Car_Reviews_Database_KaggleSentiment.csv\", encoding='ISO-8859-1')\n",
    "df = df.dropna()\n",
    "df.info()\n"
   ]
  },
  {
   "cell_type": "code",
   "execution_count": 71,
   "metadata": {},
   "outputs": [
    {
     "name": "stdout",
     "output_type": "stream",
     "text": [
      "{'ford', 'by', 'hyundai', 'because', 'it', 'below', 'both', \"it's\", 'her', 'you', 'y', 'through', \"hadn't\", \"that'll\", 'off', 'only', 'hers', 'themselves', 'they', 'am', 'himself', 'its', 'yourself', 'these', 'each', 'cadillac', 'over', 'i', 'ourselves', 'our', 'out', \"don't\", 'of', 'not', 'does', 'did', 'car', 'the', 'being', 'haven', 'mustn', \"you'll\", 'are', 'then', 'to', 'she', 'about', 'most', 'yours', 'when', \"wouldn't\", 'here', 'll', 'at', \"should've\", 'other', 'more', 'between', 'any', 'do', 'down', 'there', 'yourselves', \"needn't\", 'with', \"aren't\", 'same', 'just', 'on', 'for', 'theirs', 'my', \"weren't\", 'so', \"you're\", 'from', 'chevrolet', 'while', 'can', 'now', 'mightn', 'your', 't', \"shan't\", 'couldn', 'he', 'that', 'few', 'too', 'needn', 'wasn', \"she's\", 'dodge', 'was', 'their', 'were', \"didn't\", 'such', 'no', 'honda', 'toyota', 'wouldn', 'kia', 'him', 'above', 'very', \"wasn't\", 'herself', 'own', 'if', 'had', 'after', 'before', 'against', 'shouldn', 'will', 'we', 'all', 'up', 're', 'aren', 'doing', 'nor', 'won', 'm', 'as', 'or', 'be', 'than', 's', 'itself', \"you'd\", 'which', 'what', 'is', 'myself', 'should', 'didn', 'been', 'jeep', \"mustn't\", 'ain', \"shouldn't\", 'why', 'mazda', 'once', 'an', \"won't\", 'have', 'further', 'until', 'some', 'hadn', 'them', 'volkswagen', 'his', \"haven't\", \"hasn't\", 'who', \"couldn't\", 'isn', 'volvo', 'and', 'me', \"doesn't\", 'in', 'where', 'buick', 'whom', 'again', \"isn't\", \"you've\", 'how', 'ma', 'subaru', 'ours', 'a', 'having', 'nissan', 've', 'chrysler', 'shan', 'but', 'this', 'has', 'during', 'under', 'those', \"mightn't\", 'gmc', 'don', 'doesn', 'd', 'into', 'o', 'hasn', 'weren'}\n"
     ]
    }
   ],
   "source": [
    "stop_words = set(stopwords.words('english'))\n",
    "add_to_stop = [\"car\", \"buick\", \"cadillac\", \"chevrolet\", \"chrysler\", \"dodge\", \"ford\", \"gmc\", \"honda\", \"hyundai\", \"jeep\", \"kia\", \"mazda\", \\\n",
    "               \"nissan\", \"subaru\", \"toyota\", \"volkswagen\", \"volvo\"]\n",
    "for word in add_to_stop:\n",
    "    stop_words.add(word)\n",
    "print(stop_words)\n",
    "\n",
    "def preprocess_text(text: str, stopwords=stop_words) -> str:\n",
    "    # remove links\n",
    "    text = re.sub(r\"http\\S+\", \"\", text)\n",
    "    # remove special chars and numbers\n",
    "    text = re.sub(\"[^A-Za-z]+\", \" \", text) # leave only abc characters and spaces\n",
    "    \n",
    "    # remove stopwords\n",
    "  \n",
    "    tokens = nltk.word_tokenize(text)\n",
    "    tokens = [w for w in tokens if w.lower() not in stopwords]\n",
    "    text = \" \".join(tokens)\n",
    "    text = text.lower().strip() # removes leading and trailing whitespaces\n",
    "    \n",
    "    return text"
   ]
  },
  {
   "cell_type": "code",
   "execution_count": 73,
   "metadata": {},
   "outputs": [
    {
     "data": {
      "text/html": [
       "<div>\n",
       "<style scoped>\n",
       "    .dataframe tbody tr th:only-of-type {\n",
       "        vertical-align: middle;\n",
       "    }\n",
       "\n",
       "    .dataframe tbody tr th {\n",
       "        vertical-align: top;\n",
       "    }\n",
       "\n",
       "    .dataframe thead th {\n",
       "        text-align: right;\n",
       "    }\n",
       "</style>\n",
       "<table border=\"1\" class=\"dataframe\">\n",
       "  <thead>\n",
       "    <tr style=\"text-align: right;\">\n",
       "      <th></th>\n",
       "      <th>Year</th>\n",
       "      <th>Model</th>\n",
       "      <th>Review</th>\n",
       "      <th>Review_processed</th>\n",
       "    </tr>\n",
       "  </thead>\n",
       "  <tbody>\n",
       "    <tr>\n",
       "      <th>60</th>\n",
       "      <td>2018</td>\n",
       "      <td>GMC</td>\n",
       "      <td>Key upgrade is the 2018 Yukon Denali becomes o...</td>\n",
       "      <td>key upgrade yukon denali becomes one first suv...</td>\n",
       "    </tr>\n",
       "    <tr>\n",
       "      <th>36</th>\n",
       "      <td>2016</td>\n",
       "      <td>Hyundai</td>\n",
       "      <td>Enter the 2016 Hyundai Elantra Value Edition t...</td>\n",
       "      <td>enter elantra value edition offers enough give...</td>\n",
       "    </tr>\n",
       "  </tbody>\n",
       "</table>\n",
       "</div>"
      ],
      "text/plain": [
       "    Year   Model                                              Review  \\\n",
       "60  2018      GMC  Key upgrade is the 2018 Yukon Denali becomes o...   \n",
       "36  2016  Hyundai  Enter the 2016 Hyundai Elantra Value Edition t...   \n",
       "\n",
       "                                     Review_processed  \n",
       "60  key upgrade yukon denali becomes one first suv...  \n",
       "36  enter elantra value edition offers enough give...  "
      ]
     },
     "execution_count": 73,
     "metadata": {},
     "output_type": "execute_result"
    }
   ],
   "source": [
    "df['Review_processed'] = df['Review'].apply(lambda text: preprocess_text(text))\n",
    "docs = df['Review_processed'].tolist()\n",
    "df.sample(2)"
   ]
  },
  {
   "cell_type": "markdown",
   "metadata": {},
   "source": [
    "# Experiments"
   ]
  },
  {
   "cell_type": "markdown",
   "metadata": {},
   "source": [
    "## BERTopic"
   ]
  },
  {
   "cell_type": "markdown",
   "metadata": {},
   "source": [
    "### Basics"
   ]
  },
  {
   "cell_type": "code",
   "execution_count": 67,
   "metadata": {},
   "outputs": [],
   "source": [
    "topic_model = BERTopic()\n"
   ]
  },
  {
   "cell_type": "code",
   "execution_count": 74,
   "metadata": {},
   "outputs": [],
   "source": [
    "topics, probs = topic_model.fit_transform(docs)"
   ]
  },
  {
   "cell_type": "code",
   "execution_count": 75,
   "metadata": {},
   "outputs": [
    {
     "data": {
      "text/html": [
       "<div>\n",
       "<style scoped>\n",
       "    .dataframe tbody tr th:only-of-type {\n",
       "        vertical-align: middle;\n",
       "    }\n",
       "\n",
       "    .dataframe tbody tr th {\n",
       "        vertical-align: top;\n",
       "    }\n",
       "\n",
       "    .dataframe thead th {\n",
       "        text-align: right;\n",
       "    }\n",
       "</style>\n",
       "<table border=\"1\" class=\"dataframe\">\n",
       "  <thead>\n",
       "    <tr style=\"text-align: right;\">\n",
       "      <th></th>\n",
       "      <th>Topic</th>\n",
       "      <th>Count</th>\n",
       "      <th>Name</th>\n",
       "      <th>Representation</th>\n",
       "      <th>Representative_Docs</th>\n",
       "    </tr>\n",
       "  </thead>\n",
       "  <tbody>\n",
       "    <tr>\n",
       "      <th>0</th>\n",
       "      <td>-1</td>\n",
       "      <td>44</td>\n",
       "      <td>-1_model_also_luxurious_world</td>\n",
       "      <td>[model, also, luxurious, world, models, mulsan...</td>\n",
       "      <td>[recently seen super luxurious model coming br...</td>\n",
       "    </tr>\n",
       "    <tr>\n",
       "      <th>1</th>\n",
       "      <td>0</td>\n",
       "      <td>149</td>\n",
       "      <td>0_drive_like_driving_great</td>\n",
       "      <td>[drive, like, driving, great, good, even, spee...</td>\n",
       "      <td>[vehicle long stood excess opulence knew going...</td>\n",
       "    </tr>\n",
       "    <tr>\n",
       "      <th>2</th>\n",
       "      <td>1</td>\n",
       "      <td>22</td>\n",
       "      <td>1_handling_engine_interior_camaro</td>\n",
       "      <td>[handling, engine, interior, camaro, ranks, cl...</td>\n",
       "      <td>[despite athletic handling upscale cabin regal...</td>\n",
       "    </tr>\n",
       "    <tr>\n",
       "      <th>3</th>\n",
       "      <td>2</td>\n",
       "      <td>19</td>\n",
       "      <td>2_bmw_series_handling_luxury</td>\n",
       "      <td>[bmw, series, handling, luxury, rear, small, s...</td>\n",
       "      <td>[bmw series muscular engines nimble handling a...</td>\n",
       "    </tr>\n",
       "  </tbody>\n",
       "</table>\n",
       "</div>"
      ],
      "text/plain": [
       "   Topic  Count                               Name  \\\n",
       "0     -1     44      -1_model_also_luxurious_world   \n",
       "1      0    149         0_drive_like_driving_great   \n",
       "2      1     22  1_handling_engine_interior_camaro   \n",
       "3      2     19       2_bmw_series_handling_luxury   \n",
       "\n",
       "                                      Representation  \\\n",
       "0  [model, also, luxurious, world, models, mulsan...   \n",
       "1  [drive, like, driving, great, good, even, spee...   \n",
       "2  [handling, engine, interior, camaro, ranks, cl...   \n",
       "3  [bmw, series, handling, luxury, rear, small, s...   \n",
       "\n",
       "                                 Representative_Docs  \n",
       "0  [recently seen super luxurious model coming br...  \n",
       "1  [vehicle long stood excess opulence knew going...  \n",
       "2  [despite athletic handling upscale cabin regal...  \n",
       "3  [bmw series muscular engines nimble handling a...  "
      ]
     },
     "execution_count": 75,
     "metadata": {},
     "output_type": "execute_result"
    }
   ],
   "source": [
    "topic_model.get_topic_info()"
   ]
  },
  {
   "cell_type": "code",
   "execution_count": 77,
   "metadata": {},
   "outputs": [
    {
     "data": {
      "text/plain": [
       "[('drive', np.float64(0.028464994770944746)),\n",
       " ('like', np.float64(0.02826070948020483)),\n",
       " ('driving', np.float64(0.02776705583973617)),\n",
       " ('great', np.float64(0.02667612446943073)),\n",
       " ('good', np.float64(0.02641275855629422)),\n",
       " ('even', np.float64(0.023116349820506067)),\n",
       " ('speed', np.float64(0.021511383988461412)),\n",
       " ('vehicle', np.float64(0.02138206730751355)),\n",
       " ('one', np.float64(0.02062697612355299)),\n",
       " ('well', np.float64(0.02038947237905064))]"
      ]
     },
     "execution_count": 77,
     "metadata": {},
     "output_type": "execute_result"
    }
   ],
   "source": [
    "topic_model.get_topic(0)"
   ]
  },
  {
   "cell_type": "code",
   "execution_count": null,
   "metadata": {},
   "outputs": [],
   "source": [
    "topic_model.get_document_info(docs)"
   ]
  },
  {
   "cell_type": "markdown",
   "metadata": {},
   "source": [
    "### Fine-tune Topic Representations"
   ]
  },
  {
   "cell_type": "code",
   "execution_count": 84,
   "metadata": {},
   "outputs": [],
   "source": [
    "from bertopic.representation import KeyBERTInspired"
   ]
  },
  {
   "cell_type": "code",
   "execution_count": 85,
   "metadata": {},
   "outputs": [],
   "source": [
    "representation_model = KeyBERTInspired()\n",
    "topic_model = BERTopic(representation_model=representation_model)"
   ]
  },
  {
   "cell_type": "code",
   "execution_count": 88,
   "metadata": {},
   "outputs": [],
   "source": [
    "topics, probs = topic_model.fit_transform(docs)"
   ]
  },
  {
   "cell_type": "code",
   "execution_count": 89,
   "metadata": {},
   "outputs": [
    {
     "data": {
      "text/html": [
       "<div>\n",
       "<style scoped>\n",
       "    .dataframe tbody tr th:only-of-type {\n",
       "        vertical-align: middle;\n",
       "    }\n",
       "\n",
       "    .dataframe tbody tr th {\n",
       "        vertical-align: top;\n",
       "    }\n",
       "\n",
       "    .dataframe thead th {\n",
       "        text-align: right;\n",
       "    }\n",
       "</style>\n",
       "<table border=\"1\" class=\"dataframe\">\n",
       "  <thead>\n",
       "    <tr style=\"text-align: right;\">\n",
       "      <th></th>\n",
       "      <th>Topic</th>\n",
       "      <th>Count</th>\n",
       "      <th>Name</th>\n",
       "      <th>Representation</th>\n",
       "      <th>Representative_Docs</th>\n",
       "    </tr>\n",
       "  </thead>\n",
       "  <tbody>\n",
       "    <tr>\n",
       "      <th>0</th>\n",
       "      <td>-1</td>\n",
       "      <td>56</td>\n",
       "      <td>-1_luxurious_luxury_richest_bentley</td>\n",
       "      <td>[luxurious, luxury, richest, bentley, cars, mo...</td>\n",
       "      <td>[recently seen super luxurious model coming br...</td>\n",
       "    </tr>\n",
       "    <tr>\n",
       "      <th>1</th>\n",
       "      <td>0</td>\n",
       "      <td>131</td>\n",
       "      <td>0_audi_vehicle_cars_driving</td>\n",
       "      <td>[audi, vehicle, cars, driving, suv, highway, e...</td>\n",
       "      <td>[vehicle long stood excess opulence knew going...</td>\n",
       "    </tr>\n",
       "    <tr>\n",
       "      <th>2</th>\n",
       "      <td>1</td>\n",
       "      <td>27</td>\n",
       "      <td>1_automotive_regal_seats_luxurious</td>\n",
       "      <td>[automotive, regal, seats, luxurious, sedan, c...</td>\n",
       "      <td>[despite athletic handling upscale cabin regal...</td>\n",
       "    </tr>\n",
       "    <tr>\n",
       "      <th>3</th>\n",
       "      <td>2</td>\n",
       "      <td>20</td>\n",
       "      <td>2_bmw_mercedes_sedan_luxury</td>\n",
       "      <td>[bmw, mercedes, sedan, luxury, audi, luxurious...</td>\n",
       "      <td>[bmw series muscular engines nimble handling a...</td>\n",
       "    </tr>\n",
       "  </tbody>\n",
       "</table>\n",
       "</div>"
      ],
      "text/plain": [
       "   Topic  Count                                 Name  \\\n",
       "0     -1     56  -1_luxurious_luxury_richest_bentley   \n",
       "1      0    131          0_audi_vehicle_cars_driving   \n",
       "2      1     27   1_automotive_regal_seats_luxurious   \n",
       "3      2     20          2_bmw_mercedes_sedan_luxury   \n",
       "\n",
       "                                      Representation  \\\n",
       "0  [luxurious, luxury, richest, bentley, cars, mo...   \n",
       "1  [audi, vehicle, cars, driving, suv, highway, e...   \n",
       "2  [automotive, regal, seats, luxurious, sedan, c...   \n",
       "3  [bmw, mercedes, sedan, luxury, audi, luxurious...   \n",
       "\n",
       "                                 Representative_Docs  \n",
       "0  [recently seen super luxurious model coming br...  \n",
       "1  [vehicle long stood excess opulence knew going...  \n",
       "2  [despite athletic handling upscale cabin regal...  \n",
       "3  [bmw series muscular engines nimble handling a...  "
      ]
     },
     "execution_count": 89,
     "metadata": {},
     "output_type": "execute_result"
    }
   ],
   "source": [
    "topic_model.get_topic_info()"
   ]
  }
 ],
 "metadata": {
  "kernelspec": {
   "display_name": ".venv",
   "language": "python",
   "name": "python3"
  },
  "language_info": {
   "codemirror_mode": {
    "name": "ipython",
    "version": 3
   },
   "file_extension": ".py",
   "mimetype": "text/x-python",
   "name": "python",
   "nbconvert_exporter": "python",
   "pygments_lexer": "ipython3",
   "version": "3.11.5"
  }
 },
 "nbformat": 4,
 "nbformat_minor": 2
}
