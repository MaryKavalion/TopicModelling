{
 "cells": [
  {
   "cell_type": "markdown",
   "metadata": {},
   "source": [
    "# Imports"
   ]
  },
  {
   "cell_type": "code",
   "execution_count": 1,
   "metadata": {},
   "outputs": [],
   "source": [
    "import pandas as pd"
   ]
  },
  {
   "cell_type": "code",
   "execution_count": 2,
   "metadata": {},
   "outputs": [
    {
     "name": "stderr",
     "output_type": "stream",
     "text": [
      "[nltk_data] Error loading stopwords: <urlopen error [Errno 11001]\n",
      "[nltk_data]     getaddrinfo failed>\n",
      "[nltk_data] Error loading vader_lexicon: <urlopen error [Errno 11001]\n",
      "[nltk_data]     getaddrinfo failed>\n",
      "[nltk_data] Error loading punkt: <urlopen error [Errno 11001]\n",
      "[nltk_data]     getaddrinfo failed>\n",
      "[nltk_data] Error loading punkt_tab: <urlopen error [Errno 11001]\n",
      "[nltk_data]     getaddrinfo failed>\n"
     ]
    },
    {
     "data": {
      "text/plain": [
       "False"
      ]
     },
     "execution_count": 2,
     "metadata": {},
     "output_type": "execute_result"
    }
   ],
   "source": [
    "import nltk\n",
    "import re\n",
    "\n",
    "from nltk.corpus import stopwords\n",
    "from nltk.sentiment import SentimentIntensityAnalyzer\n",
    "\n",
    "# Download necessary NLTK data\n",
    "nltk.download('stopwords')\n",
    "nltk.download('vader_lexicon')\n",
    "nltk.download('punkt')\n",
    "nltk.download('punkt_tab')\n"
   ]
  },
  {
   "cell_type": "code",
   "execution_count": 3,
   "metadata": {},
   "outputs": [],
   "source": [
    "import numpy as np\n",
    "# def dummy_npwarn_decorator_factory():\n",
    "#   def npwarn_decorator(x):\n",
    "#     return x\n",
    "#   return npwarn_decorator\n",
    "# np._no_nep50_warning = getattr(np, '_no_nep50_warning', dummy_npwarn_decorator_factory)"
   ]
  },
  {
   "cell_type": "code",
   "execution_count": 4,
   "metadata": {},
   "outputs": [
    {
     "name": "stderr",
     "output_type": "stream",
     "text": [
      "d:\\workdir\\TopicModelling\\.venv\\Lib\\site-packages\\tqdm\\auto.py:21: TqdmWarning: IProgress not found. Please update jupyter and ipywidgets. See https://ipywidgets.readthedocs.io/en/stable/user_install.html\n",
      "  from .autonotebook import tqdm as notebook_tqdm\n"
     ]
    }
   ],
   "source": [
    "from bertopic import BERTopic"
   ]
  },
  {
   "cell_type": "code",
   "execution_count": 5,
   "metadata": {},
   "outputs": [],
   "source": [
    "from transformers import pipeline #if error change version of transformers"
   ]
  },
  {
   "cell_type": "markdown",
   "metadata": {},
   "source": [
    "# Dataset import and text preprocessing"
   ]
  },
  {
   "cell_type": "code",
   "execution_count": 6,
   "metadata": {},
   "outputs": [
    {
     "name": "stdout",
     "output_type": "stream",
     "text": [
      "<class 'pandas.core.frame.DataFrame'>\n",
      "Index: 234 entries, 0 to 277\n",
      "Data columns (total 3 columns):\n",
      " #   Column  Non-Null Count  Dtype \n",
      "---  ------  --------------  ----- \n",
      " 0   Year    234 non-null    int64 \n",
      " 1   Model   234 non-null    object\n",
      " 2   Review  234 non-null    object\n",
      "dtypes: int64(1), object(2)\n",
      "memory usage: 7.3+ KB\n"
     ]
    }
   ],
   "source": [
    "df = pd.read_csv(r\"D:\\workdir\\TopicModelling\\Data\\Car_Reviews_Database_KaggleSentiment.csv\", encoding='ISO-8859-1')\n",
    "df = df.dropna()\n",
    "df.info()\n"
   ]
  },
  {
   "cell_type": "code",
   "execution_count": 7,
   "metadata": {},
   "outputs": [
    {
     "name": "stdout",
     "output_type": "stream",
     "text": [
      "{'nissan', 'my', 'again', 'dodge', 'm', 'aren', 'not', \"you'll\", 'did', 'car', 'have', 'when', 'are', \"should've\", 'buick', 'yourselves', 'while', 'up', 'then', 'am', 'but', 'off', 'an', \"haven't\", 'from', 'same', 'on', 'me', 'we', 'was', \"doesn't\", 'them', \"wouldn't\", 'weren', 'further', 'of', \"that'll\", \"mightn't\", 'its', 'being', 'down', 'ourselves', 'both', 're', 'for', 'very', 'mustn', 've', 'where', 'because', 'why', 'just', 'all', 'y', \"you're\", 'here', \"didn't\", \"mustn't\", 'toyota', \"don't\", 'were', 'i', 'ain', 'kia', 'than', 'whom', 'needn', 'it', 'so', \"shan't\", 'he', 'chevrolet', 'mightn', 'shan', 'doesn', 'myself', 'each', 'or', 'their', 'd', 'in', 'has', 'if', \"couldn't\", \"hasn't\", 'during', 'couldn', 'to', 'with', 'she', 'wasn', 'cadillac', 'out', 'this', \"you've\", 'will', 's', 'these', 'hers', \"won't\", 'volvo', 'does', 'no', \"wasn't\", 'nor', 'only', 'such', 'didn', 'honda', \"needn't\", 'his', 'chrysler', \"aren't\", 'mazda', 'some', 'don', 'a', 'yourself', 'and', 'too', 'at', 'how', 'between', 'themselves', 'herself', 'as', 'you', 'by', \"shouldn't\", 'ma', 'that', 'o', 'll', \"she's\", 'do', 'our', 'after', 'her', 'should', 'more', \"it's\", 'himself', 'there', 'your', 'jeep', 'about', 'won', 'gmc', 'theirs', 'until', 'over', 'any', \"isn't\", 'doing', 'him', 'had', 'shouldn', 'yours', 'itself', 'once', \"weren't\", 'ours', 'hadn', \"hadn't\", 'ford', 't', 'subaru', 'volkswagen', 'other', 'those', 'wouldn', 'into', 'below', 'above', 'own', 'can', 'now', 'they', 'be', 'is', 'through', 'haven', 'who', 'which', 'before', 'few', 'hasn', 'hyundai', 'most', 'been', 'under', 'isn', 'what', 'against', 'the', 'having', \"you'd\"}\n"
     ]
    }
   ],
   "source": [
    "stop_words = set(stopwords.words('english'))\n",
    "add_to_stop = [\"car\", \"buick\", \"cadillac\", \"chevrolet\", \"chrysler\", \"dodge\", \"ford\", \"gmc\", \"honda\", \"hyundai\", \"jeep\", \"kia\", \"mazda\", \\\n",
    "               \"nissan\", \"subaru\", \"toyota\", \"volkswagen\", \"volvo\"]\n",
    "for word in add_to_stop:\n",
    "    stop_words.add(word)\n",
    "print(stop_words)\n",
    "\n",
    "def preprocess_text(text: str, stopwords=stop_words) -> str:\n",
    "    # remove links\n",
    "    text = re.sub(r\"http\\S+\", \"\", text)\n",
    "    # remove special chars and numbers\n",
    "    text = re.sub(\"[^A-Za-z]+\", \" \", text) # leave only abc characters and spaces\n",
    "    \n",
    "    # remove stopwords\n",
    "  \n",
    "    tokens = nltk.word_tokenize(text)\n",
    "    tokens = [w for w in tokens if w.lower() not in stopwords]\n",
    "    text = \" \".join(tokens)\n",
    "    text = text.lower().strip() # removes leading and trailing whitespaces\n",
    "    \n",
    "    return text"
   ]
  },
  {
   "cell_type": "code",
   "execution_count": 8,
   "metadata": {},
   "outputs": [
    {
     "data": {
      "text/html": [
       "<div>\n",
       "<style scoped>\n",
       "    .dataframe tbody tr th:only-of-type {\n",
       "        vertical-align: middle;\n",
       "    }\n",
       "\n",
       "    .dataframe tbody tr th {\n",
       "        vertical-align: top;\n",
       "    }\n",
       "\n",
       "    .dataframe thead th {\n",
       "        text-align: right;\n",
       "    }\n",
       "</style>\n",
       "<table border=\"1\" class=\"dataframe\">\n",
       "  <thead>\n",
       "    <tr style=\"text-align: right;\">\n",
       "      <th></th>\n",
       "      <th>Year</th>\n",
       "      <th>Model</th>\n",
       "      <th>Review</th>\n",
       "      <th>Review_processed</th>\n",
       "    </tr>\n",
       "  </thead>\n",
       "  <tbody>\n",
       "    <tr>\n",
       "      <th>30</th>\n",
       "      <td>2013</td>\n",
       "      <td>Hyundai</td>\n",
       "      <td>Hyundai Builds a Warm Hatch. While the Elantra...</td>\n",
       "      <td>builds warm hatch elantra sedan good compact p...</td>\n",
       "    </tr>\n",
       "    <tr>\n",
       "      <th>59</th>\n",
       "      <td>2017</td>\n",
       "      <td>GMC</td>\n",
       "      <td>2017 GMC Acadia : All in all, GMC has met its ...</td>\n",
       "      <td>acadia met target creating smaller nimble refi...</td>\n",
       "    </tr>\n",
       "  </tbody>\n",
       "</table>\n",
       "</div>"
      ],
      "text/plain": [
       "    Year   Model                                              Review  \\\n",
       "30  2013  Hyundai  Hyundai Builds a Warm Hatch. While the Elantra...   \n",
       "59  2017      GMC  2017 GMC Acadia : All in all, GMC has met its ...   \n",
       "\n",
       "                                     Review_processed  \n",
       "30  builds warm hatch elantra sedan good compact p...  \n",
       "59  acadia met target creating smaller nimble refi...  "
      ]
     },
     "execution_count": 8,
     "metadata": {},
     "output_type": "execute_result"
    }
   ],
   "source": [
    "df['Review_processed'] = df['Review'].apply(lambda text: preprocess_text(text))\n",
    "docs = df['Review_processed'].tolist()\n",
    "df.sample(2)"
   ]
  },
  {
   "cell_type": "markdown",
   "metadata": {},
   "source": [
    "# Experiments"
   ]
  },
  {
   "cell_type": "markdown",
   "metadata": {},
   "source": [
    "## BERTopic"
   ]
  },
  {
   "cell_type": "markdown",
   "metadata": {},
   "source": [
    "### Basics"
   ]
  },
  {
   "cell_type": "code",
   "execution_count": 9,
   "metadata": {},
   "outputs": [],
   "source": [
    "topic_model = BERTopic()\n"
   ]
  },
  {
   "cell_type": "code",
   "execution_count": 10,
   "metadata": {},
   "outputs": [],
   "source": [
    "topics, probs = topic_model.fit_transform(docs)"
   ]
  },
  {
   "cell_type": "code",
   "execution_count": 11,
   "metadata": {},
   "outputs": [
    {
     "data": {
      "text/html": [
       "<div>\n",
       "<style scoped>\n",
       "    .dataframe tbody tr th:only-of-type {\n",
       "        vertical-align: middle;\n",
       "    }\n",
       "\n",
       "    .dataframe tbody tr th {\n",
       "        vertical-align: top;\n",
       "    }\n",
       "\n",
       "    .dataframe thead th {\n",
       "        text-align: right;\n",
       "    }\n",
       "</style>\n",
       "<table border=\"1\" class=\"dataframe\">\n",
       "  <thead>\n",
       "    <tr style=\"text-align: right;\">\n",
       "      <th></th>\n",
       "      <th>Topic</th>\n",
       "      <th>Count</th>\n",
       "      <th>Name</th>\n",
       "      <th>Representation</th>\n",
       "      <th>Representative_Docs</th>\n",
       "    </tr>\n",
       "  </thead>\n",
       "  <tbody>\n",
       "    <tr>\n",
       "      <th>0</th>\n",
       "      <td>-1</td>\n",
       "      <td>44</td>\n",
       "      <td>-1_model_also_luxurious_escape</td>\n",
       "      <td>[model, also, luxurious, escape, world, mulsan...</td>\n",
       "      <td>[recently seen super luxurious model coming br...</td>\n",
       "    </tr>\n",
       "    <tr>\n",
       "      <th>1</th>\n",
       "      <td>0</td>\n",
       "      <td>144</td>\n",
       "      <td>0_drive_driving_good_like</td>\n",
       "      <td>[drive, driving, good, like, great, even, well...</td>\n",
       "      <td>[vehicle long stood excess opulence knew going...</td>\n",
       "    </tr>\n",
       "    <tr>\n",
       "      <th>2</th>\n",
       "      <td>1</td>\n",
       "      <td>26</td>\n",
       "      <td>1_handling_engine_reliability_interior</td>\n",
       "      <td>[handling, engine, reliability, interior, rati...</td>\n",
       "      <td>[despite athletic handling upscale cabin regal...</td>\n",
       "    </tr>\n",
       "    <tr>\n",
       "      <th>3</th>\n",
       "      <td>2</td>\n",
       "      <td>20</td>\n",
       "      <td>2_bmw_series_litres_rear</td>\n",
       "      <td>[bmw, series, litres, rear, handling, luxury, ...</td>\n",
       "      <td>[bmw series muscular engines nimble handling a...</td>\n",
       "    </tr>\n",
       "  </tbody>\n",
       "</table>\n",
       "</div>"
      ],
      "text/plain": [
       "   Topic  Count                                    Name  \\\n",
       "0     -1     44          -1_model_also_luxurious_escape   \n",
       "1      0    144               0_drive_driving_good_like   \n",
       "2      1     26  1_handling_engine_reliability_interior   \n",
       "3      2     20                2_bmw_series_litres_rear   \n",
       "\n",
       "                                      Representation  \\\n",
       "0  [model, also, luxurious, escape, world, mulsan...   \n",
       "1  [drive, driving, good, like, great, even, well...   \n",
       "2  [handling, engine, reliability, interior, rati...   \n",
       "3  [bmw, series, litres, rear, handling, luxury, ...   \n",
       "\n",
       "                                 Representative_Docs  \n",
       "0  [recently seen super luxurious model coming br...  \n",
       "1  [vehicle long stood excess opulence knew going...  \n",
       "2  [despite athletic handling upscale cabin regal...  \n",
       "3  [bmw series muscular engines nimble handling a...  "
      ]
     },
     "execution_count": 11,
     "metadata": {},
     "output_type": "execute_result"
    }
   ],
   "source": [
    "topic_model.get_topic_info()"
   ]
  },
  {
   "cell_type": "code",
   "execution_count": 12,
   "metadata": {},
   "outputs": [
    {
     "data": {
      "text/plain": [
       "[('drive', np.float64(0.029194358235344393)),\n",
       " ('driving', np.float64(0.0284785358946744)),\n",
       " ('good', np.float64(0.027089537218647392)),\n",
       " ('like', np.float64(0.026985884127588275)),\n",
       " ('great', np.float64(0.0252137963900265)),\n",
       " ('even', np.float64(0.023157299754122285)),\n",
       " ('well', np.float64(0.02260747604552674)),\n",
       " ('speed', np.float64(0.02206257388595158)),\n",
       " ('engine', np.float64(0.02121818970725095)),\n",
       " ('one', np.float64(0.020598780878446805))]"
      ]
     },
     "execution_count": 12,
     "metadata": {},
     "output_type": "execute_result"
    }
   ],
   "source": [
    "topic_model.get_topic(0)"
   ]
  },
  {
   "cell_type": "code",
   "execution_count": 13,
   "metadata": {},
   "outputs": [
    {
     "data": {
      "text/html": [
       "<div>\n",
       "<style scoped>\n",
       "    .dataframe tbody tr th:only-of-type {\n",
       "        vertical-align: middle;\n",
       "    }\n",
       "\n",
       "    .dataframe tbody tr th {\n",
       "        vertical-align: top;\n",
       "    }\n",
       "\n",
       "    .dataframe thead th {\n",
       "        text-align: right;\n",
       "    }\n",
       "</style>\n",
       "<table border=\"1\" class=\"dataframe\">\n",
       "  <thead>\n",
       "    <tr style=\"text-align: right;\">\n",
       "      <th></th>\n",
       "      <th>Document</th>\n",
       "      <th>Topic</th>\n",
       "      <th>Name</th>\n",
       "      <th>Representation</th>\n",
       "      <th>Representative_Docs</th>\n",
       "      <th>Top_n_words</th>\n",
       "      <th>Probability</th>\n",
       "      <th>Representative_document</th>\n",
       "    </tr>\n",
       "  </thead>\n",
       "  <tbody>\n",
       "    <tr>\n",
       "      <th>0</th>\n",
       "      <td>although arguably first generation insight hyb...</td>\n",
       "      <td>-1</td>\n",
       "      <td>-1_model_also_luxurious_escape</td>\n",
       "      <td>[model, also, luxurious, escape, world, mulsan...</td>\n",
       "      <td>[recently seen super luxurious model coming br...</td>\n",
       "      <td>model - also - luxurious - escape - world - mu...</td>\n",
       "      <td>0.000000</td>\n",
       "      <td>False</td>\n",
       "    </tr>\n",
       "    <tr>\n",
       "      <th>1</th>\n",
       "      <td>accord ex l comfortable sporty cylinders best ...</td>\n",
       "      <td>0</td>\n",
       "      <td>0_drive_driving_good_like</td>\n",
       "      <td>[drive, driving, good, like, great, even, well...</td>\n",
       "      <td>[vehicle long stood excess opulence knew going...</td>\n",
       "      <td>drive - driving - good - like - great - even -...</td>\n",
       "      <td>0.809251</td>\n",
       "      <td>False</td>\n",
       "    </tr>\n",
       "    <tr>\n",
       "      <th>2</th>\n",
       "      <td>owed driven products years purchased vehicle m...</td>\n",
       "      <td>0</td>\n",
       "      <td>0_drive_driving_good_like</td>\n",
       "      <td>[drive, driving, good, like, great, even, well...</td>\n",
       "      <td>[vehicle long stood excess opulence knew going...</td>\n",
       "      <td>drive - driving - good - like - great - even -...</td>\n",
       "      <td>0.878965</td>\n",
       "      <td>False</td>\n",
       "    </tr>\n",
       "    <tr>\n",
       "      <th>3</th>\n",
       "      <td>accord euro l seats average little rear legroo...</td>\n",
       "      <td>-1</td>\n",
       "      <td>-1_model_also_luxurious_escape</td>\n",
       "      <td>[model, also, luxurious, escape, world, mulsan...</td>\n",
       "      <td>[recently seen super luxurious model coming br...</td>\n",
       "      <td>model - also - luxurious - escape - world - mu...</td>\n",
       "      <td>0.000000</td>\n",
       "      <td>False</td>\n",
       "    </tr>\n",
       "    <tr>\n",
       "      <th>4</th>\n",
       "      <td>hr v continuous variable transmission failed r...</td>\n",
       "      <td>0</td>\n",
       "      <td>0_drive_driving_good_like</td>\n",
       "      <td>[drive, driving, good, like, great, even, well...</td>\n",
       "      <td>[vehicle long stood excess opulence knew going...</td>\n",
       "      <td>drive - driving - good - like - great - even -...</td>\n",
       "      <td>1.000000</td>\n",
       "      <td>False</td>\n",
       "    </tr>\n",
       "    <tr>\n",
       "      <th>...</th>\n",
       "      <td>...</td>\n",
       "      <td>...</td>\n",
       "      <td>...</td>\n",
       "      <td>...</td>\n",
       "      <td>...</td>\n",
       "      <td>...</td>\n",
       "      <td>...</td>\n",
       "      <td>...</td>\n",
       "    </tr>\n",
       "    <tr>\n",
       "      <th>229</th>\n",
       "      <td>civic ex clever design spacious really good sp...</td>\n",
       "      <td>0</td>\n",
       "      <td>0_drive_driving_good_like</td>\n",
       "      <td>[drive, driving, good, like, great, even, well...</td>\n",
       "      <td>[vehicle long stood excess opulence knew going...</td>\n",
       "      <td>drive - driving - good - like - great - even -...</td>\n",
       "      <td>0.969334</td>\n",
       "      <td>False</td>\n",
       "    </tr>\n",
       "    <tr>\n",
       "      <th>230</th>\n",
       "      <td>sonata large spacious plenty front rear leg ro...</td>\n",
       "      <td>0</td>\n",
       "      <td>0_drive_driving_good_like</td>\n",
       "      <td>[drive, driving, good, like, great, even, well...</td>\n",
       "      <td>[vehicle long stood excess opulence knew going...</td>\n",
       "      <td>drive - driving - good - like - great - even -...</td>\n",
       "      <td>0.906765</td>\n",
       "      <td>False</td>\n",
       "    </tr>\n",
       "    <tr>\n",
       "      <th>231</th>\n",
       "      <td>deal prefer rear wheel drive amazing vehicle f...</td>\n",
       "      <td>0</td>\n",
       "      <td>0_drive_driving_good_like</td>\n",
       "      <td>[drive, driving, good, like, great, even, well...</td>\n",
       "      <td>[vehicle long stood excess opulence knew going...</td>\n",
       "      <td>drive - driving - good - like - great - even -...</td>\n",
       "      <td>0.965994</td>\n",
       "      <td>False</td>\n",
       "    </tr>\n",
       "    <tr>\n",
       "      <th>232</th>\n",
       "      <td>escape xlt really want like purchased necessit...</td>\n",
       "      <td>-1</td>\n",
       "      <td>-1_model_also_luxurious_escape</td>\n",
       "      <td>[model, also, luxurious, escape, world, mulsan...</td>\n",
       "      <td>[recently seen super luxurious model coming br...</td>\n",
       "      <td>model - also - luxurious - escape - world - mu...</td>\n",
       "      <td>0.000000</td>\n",
       "      <td>False</td>\n",
       "    </tr>\n",
       "    <tr>\n",
       "      <th>233</th>\n",
       "      <td>bmw series known driver redesigned series seda...</td>\n",
       "      <td>2</td>\n",
       "      <td>2_bmw_series_litres_rear</td>\n",
       "      <td>[bmw, series, litres, rear, handling, luxury, ...</td>\n",
       "      <td>[bmw series muscular engines nimble handling a...</td>\n",
       "      <td>bmw - series - litres - rear - handling - luxu...</td>\n",
       "      <td>1.000000</td>\n",
       "      <td>True</td>\n",
       "    </tr>\n",
       "  </tbody>\n",
       "</table>\n",
       "<p>234 rows × 8 columns</p>\n",
       "</div>"
      ],
      "text/plain": [
       "                                              Document  Topic  \\\n",
       "0    although arguably first generation insight hyb...     -1   \n",
       "1    accord ex l comfortable sporty cylinders best ...      0   \n",
       "2    owed driven products years purchased vehicle m...      0   \n",
       "3    accord euro l seats average little rear legroo...     -1   \n",
       "4    hr v continuous variable transmission failed r...      0   \n",
       "..                                                 ...    ...   \n",
       "229  civic ex clever design spacious really good sp...      0   \n",
       "230  sonata large spacious plenty front rear leg ro...      0   \n",
       "231  deal prefer rear wheel drive amazing vehicle f...      0   \n",
       "232  escape xlt really want like purchased necessit...     -1   \n",
       "233  bmw series known driver redesigned series seda...      2   \n",
       "\n",
       "                               Name  \\\n",
       "0    -1_model_also_luxurious_escape   \n",
       "1         0_drive_driving_good_like   \n",
       "2         0_drive_driving_good_like   \n",
       "3    -1_model_also_luxurious_escape   \n",
       "4         0_drive_driving_good_like   \n",
       "..                              ...   \n",
       "229       0_drive_driving_good_like   \n",
       "230       0_drive_driving_good_like   \n",
       "231       0_drive_driving_good_like   \n",
       "232  -1_model_also_luxurious_escape   \n",
       "233        2_bmw_series_litres_rear   \n",
       "\n",
       "                                        Representation  \\\n",
       "0    [model, also, luxurious, escape, world, mulsan...   \n",
       "1    [drive, driving, good, like, great, even, well...   \n",
       "2    [drive, driving, good, like, great, even, well...   \n",
       "3    [model, also, luxurious, escape, world, mulsan...   \n",
       "4    [drive, driving, good, like, great, even, well...   \n",
       "..                                                 ...   \n",
       "229  [drive, driving, good, like, great, even, well...   \n",
       "230  [drive, driving, good, like, great, even, well...   \n",
       "231  [drive, driving, good, like, great, even, well...   \n",
       "232  [model, also, luxurious, escape, world, mulsan...   \n",
       "233  [bmw, series, litres, rear, handling, luxury, ...   \n",
       "\n",
       "                                   Representative_Docs  \\\n",
       "0    [recently seen super luxurious model coming br...   \n",
       "1    [vehicle long stood excess opulence knew going...   \n",
       "2    [vehicle long stood excess opulence knew going...   \n",
       "3    [recently seen super luxurious model coming br...   \n",
       "4    [vehicle long stood excess opulence knew going...   \n",
       "..                                                 ...   \n",
       "229  [vehicle long stood excess opulence knew going...   \n",
       "230  [vehicle long stood excess opulence knew going...   \n",
       "231  [vehicle long stood excess opulence knew going...   \n",
       "232  [recently seen super luxurious model coming br...   \n",
       "233  [bmw series muscular engines nimble handling a...   \n",
       "\n",
       "                                           Top_n_words  Probability  \\\n",
       "0    model - also - luxurious - escape - world - mu...     0.000000   \n",
       "1    drive - driving - good - like - great - even -...     0.809251   \n",
       "2    drive - driving - good - like - great - even -...     0.878965   \n",
       "3    model - also - luxurious - escape - world - mu...     0.000000   \n",
       "4    drive - driving - good - like - great - even -...     1.000000   \n",
       "..                                                 ...          ...   \n",
       "229  drive - driving - good - like - great - even -...     0.969334   \n",
       "230  drive - driving - good - like - great - even -...     0.906765   \n",
       "231  drive - driving - good - like - great - even -...     0.965994   \n",
       "232  model - also - luxurious - escape - world - mu...     0.000000   \n",
       "233  bmw - series - litres - rear - handling - luxu...     1.000000   \n",
       "\n",
       "     Representative_document  \n",
       "0                      False  \n",
       "1                      False  \n",
       "2                      False  \n",
       "3                      False  \n",
       "4                      False  \n",
       "..                       ...  \n",
       "229                    False  \n",
       "230                    False  \n",
       "231                    False  \n",
       "232                    False  \n",
       "233                     True  \n",
       "\n",
       "[234 rows x 8 columns]"
      ]
     },
     "execution_count": 13,
     "metadata": {},
     "output_type": "execute_result"
    }
   ],
   "source": [
    "topic_model.get_document_info(docs)"
   ]
  },
  {
   "cell_type": "markdown",
   "metadata": {},
   "source": [
    "### Fine-tune Topic Representations"
   ]
  },
  {
   "cell_type": "code",
   "execution_count": 14,
   "metadata": {},
   "outputs": [],
   "source": [
    "from bertopic.representation import KeyBERTInspired"
   ]
  },
  {
   "cell_type": "code",
   "execution_count": 15,
   "metadata": {},
   "outputs": [],
   "source": [
    "representation_model = KeyBERTInspired()\n",
    "topic_model = BERTopic(representation_model=representation_model)"
   ]
  },
  {
   "cell_type": "code",
   "execution_count": 16,
   "metadata": {},
   "outputs": [],
   "source": [
    "topics, probs = topic_model.fit_transform(docs)"
   ]
  },
  {
   "cell_type": "code",
   "execution_count": 17,
   "metadata": {},
   "outputs": [
    {
     "data": {
      "text/html": [
       "<div>\n",
       "<style scoped>\n",
       "    .dataframe tbody tr th:only-of-type {\n",
       "        vertical-align: middle;\n",
       "    }\n",
       "\n",
       "    .dataframe tbody tr th {\n",
       "        vertical-align: top;\n",
       "    }\n",
       "\n",
       "    .dataframe thead th {\n",
       "        text-align: right;\n",
       "    }\n",
       "</style>\n",
       "<table border=\"1\" class=\"dataframe\">\n",
       "  <thead>\n",
       "    <tr style=\"text-align: right;\">\n",
       "      <th></th>\n",
       "      <th>Topic</th>\n",
       "      <th>Count</th>\n",
       "      <th>Name</th>\n",
       "      <th>Representation</th>\n",
       "      <th>Representative_Docs</th>\n",
       "    </tr>\n",
       "  </thead>\n",
       "  <tbody>\n",
       "    <tr>\n",
       "      <th>0</th>\n",
       "      <td>-1</td>\n",
       "      <td>38</td>\n",
       "      <td>-1_luxurious_mercedes_bmw_richest</td>\n",
       "      <td>[luxurious, mercedes, bmw, richest, bentley, c...</td>\n",
       "      <td>[recently seen super luxurious model coming br...</td>\n",
       "    </tr>\n",
       "    <tr>\n",
       "      <th>1</th>\n",
       "      <td>0</td>\n",
       "      <td>148</td>\n",
       "      <td>0_audi_vehicle_cars_driving</td>\n",
       "      <td>[audi, vehicle, cars, driving, suv, highway, e...</td>\n",
       "      <td>[vehicle long stood excess opulence knew going...</td>\n",
       "    </tr>\n",
       "    <tr>\n",
       "      <th>2</th>\n",
       "      <td>1</td>\n",
       "      <td>28</td>\n",
       "      <td>1_automotive_regal_seats_luxurious</td>\n",
       "      <td>[automotive, regal, seats, luxurious, sedan, c...</td>\n",
       "      <td>[despite athletic handling upscale cabin regal...</td>\n",
       "    </tr>\n",
       "    <tr>\n",
       "      <th>3</th>\n",
       "      <td>2</td>\n",
       "      <td>20</td>\n",
       "      <td>2_bmw_mercedes_sedan_luxury</td>\n",
       "      <td>[bmw, mercedes, sedan, luxury, audi, luxurious...</td>\n",
       "      <td>[bmw series muscular engines nimble handling a...</td>\n",
       "    </tr>\n",
       "  </tbody>\n",
       "</table>\n",
       "</div>"
      ],
      "text/plain": [
       "   Topic  Count                                Name  \\\n",
       "0     -1     38   -1_luxurious_mercedes_bmw_richest   \n",
       "1      0    148         0_audi_vehicle_cars_driving   \n",
       "2      1     28  1_automotive_regal_seats_luxurious   \n",
       "3      2     20         2_bmw_mercedes_sedan_luxury   \n",
       "\n",
       "                                      Representation  \\\n",
       "0  [luxurious, mercedes, bmw, richest, bentley, c...   \n",
       "1  [audi, vehicle, cars, driving, suv, highway, e...   \n",
       "2  [automotive, regal, seats, luxurious, sedan, c...   \n",
       "3  [bmw, mercedes, sedan, luxury, audi, luxurious...   \n",
       "\n",
       "                                 Representative_Docs  \n",
       "0  [recently seen super luxurious model coming br...  \n",
       "1  [vehicle long stood excess opulence knew going...  \n",
       "2  [despite athletic handling upscale cabin regal...  \n",
       "3  [bmw series muscular engines nimble handling a...  "
      ]
     },
     "execution_count": 17,
     "metadata": {},
     "output_type": "execute_result"
    }
   ],
   "source": [
    "topic_model.get_topic_info()"
   ]
  }
 ],
 "metadata": {
  "kernelspec": {
   "display_name": ".venv",
   "language": "python",
   "name": "python3"
  },
  "language_info": {
   "codemirror_mode": {
    "name": "ipython",
    "version": 3
   },
   "file_extension": ".py",
   "mimetype": "text/x-python",
   "name": "python",
   "nbconvert_exporter": "python",
   "pygments_lexer": "ipython3",
   "version": "3.11.5"
  }
 },
 "nbformat": 4,
 "nbformat_minor": 2
}
